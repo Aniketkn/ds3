{
 "cells": [
  {
   "cell_type": "markdown",
   "id": "f294739e",
   "metadata": {},
   "source": [
    "# Group C- Assignment 1"
   ]
  },
  {
   "cell_type": "markdown",
   "id": "8b030cc3",
   "metadata": {},
   "source": [
    "## Problem Statement"
   ]
  },
  {
   "cell_type": "markdown",
   "id": "9f5a37ff",
   "metadata": {},
   "source": [
    "   ### Create a review scrapper for any ecommerce website to fetch real time comments, reviews,ratings, comment tags, customer name using Python."
   ]
  },
  {
   "cell_type": "markdown",
   "id": "a274a8e8",
   "metadata": {},
   "source": [
    "### Importing Libraries"
   ]
  },
  {
   "cell_type": "code",
   "execution_count": 1,
   "id": "3f400b30",
   "metadata": {},
   "outputs": [],
   "source": [
    "import pandas as pd\n",
    "import requests\n",
    "from bs4 import BeautifulSoup\n",
    "Product_name = []\n",
    "Prices = []\n",
    "Description = []\n",
    "Reviews = []"
   ]
  },
  {
   "cell_type": "markdown",
   "id": "dd6932be",
   "metadata": {},
   "source": [
    "### Importing URL"
   ]
  },
  {
   "cell_type": "code",
   "execution_count": 2,
   "id": "52926eb2",
   "metadata": {},
   "outputs": [],
   "source": [
    "url = \"https://www.flipkart.com/search?q=football+shoes&sid=osp%2Ccil%2C1cu&as=on&as-show=on&otracker=AS_QueryStore_OrganicAutoSuggest_1_9_na_na_na&otracker1=AS_QueryStore_OrganicAutoSuggest_1_9_na_na_na&as-pos=1&as-type=RECENT&suggestionId=football+shoes%7CSports+Shoes&requestId=dd1e684a-4a68-4d74-891e-a1c5a5c9e688&as-searchtext=football+2&page=\"+str(1)\n",
    "r = requests.get(url)\n",
    "soup = BeautifulSoup(r.text,\"lxml\")"
   ]
  },
  {
   "cell_type": "markdown",
   "id": "15e4af55",
   "metadata": {},
   "source": [
    "### Extracting Product Name"
   ]
  },
  {
   "cell_type": "code",
   "execution_count": 3,
   "id": "f8cb0caa",
   "metadata": {},
   "outputs": [],
   "source": [
    "names = soup.find_all(\"div\",class_ = \"_2WkVRV\")"
   ]
  },
  {
   "cell_type": "code",
   "execution_count": 4,
   "id": "68d4defd",
   "metadata": {},
   "outputs": [],
   "source": [
    "a=16\n",
    "count=0\n",
    "for i in names:\n",
    "    count = count + 1\n",
    "    if count<a:\n",
    "        name = i.text\n",
    "        Product_name.append(name)"
   ]
  },
  {
   "cell_type": "markdown",
   "id": "bd29a3b5",
   "metadata": {},
   "source": [
    "### Extracting Product Prices"
   ]
  },
  {
   "cell_type": "code",
   "execution_count": 5,
   "id": "95deeedc",
   "metadata": {},
   "outputs": [],
   "source": [
    "prices = soup.find_all(\"div\", class_ = \"_30jeq3\")"
   ]
  },
  {
   "cell_type": "code",
   "execution_count": 6,
   "id": "5872df91",
   "metadata": {},
   "outputs": [],
   "source": [
    "a=16\n",
    "count=0\n",
    "for i in prices:\n",
    "    count = count + 1\n",
    "    if count<a:\n",
    "        name = i.text\n",
    "        Prices.append(name)       \n",
    "\n",
    " "
   ]
  },
  {
   "cell_type": "markdown",
   "id": "a1f8dcc4",
   "metadata": {},
   "source": [
    "### Extracting Description of Product"
   ]
  },
  {
   "cell_type": "code",
   "execution_count": 7,
   "id": "6809ed69",
   "metadata": {},
   "outputs": [],
   "source": [
    "desc = soup.find_all(\"a\",class_ = \"IRpwTa\")"
   ]
  },
  {
   "cell_type": "code",
   "execution_count": 8,
   "id": "ba41eb9c",
   "metadata": {},
   "outputs": [],
   "source": [
    "a=16\n",
    "count=0\n",
    "for i in desc:\n",
    "        count = count + 1\n",
    "        if count<a:\n",
    "            name = i.text\n",
    "            Description.append(name)\n"
   ]
  },
  {
   "cell_type": "markdown",
   "id": "22617bd1",
   "metadata": {},
   "source": [
    "### Extracting Product Reviews"
   ]
  },
  {
   "cell_type": "code",
   "execution_count": 9,
   "id": "a45c1e1a",
   "metadata": {},
   "outputs": [],
   "source": [
    "reviews = soup.find_all(\"div\", class_ = \"_3LWZlK\")"
   ]
  },
  {
   "cell_type": "code",
   "execution_count": 10,
   "id": "d286a6c1",
   "metadata": {},
   "outputs": [],
   "source": [
    "for i in reviews:\n",
    "    name = i.text\n",
    "    Reviews.append(name) \n"
   ]
  },
  {
   "cell_type": "code",
   "execution_count": 11,
   "id": "955b5e58",
   "metadata": {},
   "outputs": [
    {
     "name": "stdout",
     "output_type": "stream",
     "text": [
      "Product name: ['NIVIA', 'NIVIA', 'Golazo', 'NIVIA', 'NIVIA', 'NIVIA', 'NIVIA', 'NIVIA', 'NIVIA', 'NIVIA', 'Adi', 'Adi', 'NIVIA', 'NIVIA', 'NIVIA']\n",
      "\n",
      "Price: ['₹562', '₹494', '₹540', '₹560', '₹601', '₹672', '₹749', '₹699', '₹549', '₹689', '₹629', '₹629', '₹461', '₹749', '₹640']\n",
      "\n",
      "Description: ['Football Shoes For Men', 'IMPACT Football Shoes For Men', 'FS-10 Football Shoes For Men', 'Oslar 2.0 Football Shoes For Men', \"Men's Encounter 9.0 F.B Stud Football Shoes Football Sh...\", 'Football Shoes For Men', 'GOAL POWER Football Shoes For Men', 'INFRA Football Shoes For Men', 'IMPACT Football Shoes For Men', 'Football Shoes For Men', 'Boys and Men Football Shoes Football Shoes For Men', 'Football Shoes For Men', 'Storm Football Shoes For Men', 'AMBITION Football Shoes For Men', 'Oslar 2.0 Football Shoes For Men']\n",
      "\n",
      "Reviews: ['3.9', '1', '4', '4.1', '5', '5', '4.2', '1', '1', '4.2', '5', '4', '4.1', '5', '5']\n"
     ]
    }
   ],
   "source": [
    "print(\"Product name:\", Product_name) \n",
    "print(\"\\nPrice:\", Prices)\n",
    "print(\"\\nDescription:\", Description)\n",
    "print(\"\\nReviews:\", Reviews)"
   ]
  },
  {
   "cell_type": "code",
   "execution_count": 14,
   "id": "1bea7773",
   "metadata": {},
   "outputs": [],
   "source": [
    "import pandas as pd\n",
    "df = pd.DataFrame({'Product name': Product_name, 'Prices': Prices, 'description': Description, 'Reviews': Reviews})"
   ]
  },
  {
   "cell_type": "code",
   "execution_count": 15,
   "id": "8ca38bca",
   "metadata": {},
   "outputs": [
    {
     "data": {
      "text/html": [
       "<div>\n",
       "<style scoped>\n",
       "    .dataframe tbody tr th:only-of-type {\n",
       "        vertical-align: middle;\n",
       "    }\n",
       "\n",
       "    .dataframe tbody tr th {\n",
       "        vertical-align: top;\n",
       "    }\n",
       "\n",
       "    .dataframe thead th {\n",
       "        text-align: right;\n",
       "    }\n",
       "</style>\n",
       "<table border=\"1\" class=\"dataframe\">\n",
       "  <thead>\n",
       "    <tr style=\"text-align: right;\">\n",
       "      <th></th>\n",
       "      <th>Product name</th>\n",
       "      <th>Prices</th>\n",
       "      <th>description</th>\n",
       "      <th>Reviews</th>\n",
       "    </tr>\n",
       "  </thead>\n",
       "  <tbody>\n",
       "    <tr>\n",
       "      <th>0</th>\n",
       "      <td>NIVIA</td>\n",
       "      <td>₹562</td>\n",
       "      <td>Football Shoes For Men</td>\n",
       "      <td>3.9</td>\n",
       "    </tr>\n",
       "    <tr>\n",
       "      <th>1</th>\n",
       "      <td>NIVIA</td>\n",
       "      <td>₹494</td>\n",
       "      <td>IMPACT Football Shoes For Men</td>\n",
       "      <td>1</td>\n",
       "    </tr>\n",
       "    <tr>\n",
       "      <th>2</th>\n",
       "      <td>Golazo</td>\n",
       "      <td>₹540</td>\n",
       "      <td>FS-10 Football Shoes For Men</td>\n",
       "      <td>4</td>\n",
       "    </tr>\n",
       "    <tr>\n",
       "      <th>3</th>\n",
       "      <td>NIVIA</td>\n",
       "      <td>₹560</td>\n",
       "      <td>Oslar 2.0 Football Shoes For Men</td>\n",
       "      <td>4.1</td>\n",
       "    </tr>\n",
       "    <tr>\n",
       "      <th>4</th>\n",
       "      <td>NIVIA</td>\n",
       "      <td>₹601</td>\n",
       "      <td>Men's Encounter 9.0 F.B Stud Football Shoes Fo...</td>\n",
       "      <td>5</td>\n",
       "    </tr>\n",
       "    <tr>\n",
       "      <th>5</th>\n",
       "      <td>NIVIA</td>\n",
       "      <td>₹672</td>\n",
       "      <td>Football Shoes For Men</td>\n",
       "      <td>5</td>\n",
       "    </tr>\n",
       "    <tr>\n",
       "      <th>6</th>\n",
       "      <td>NIVIA</td>\n",
       "      <td>₹749</td>\n",
       "      <td>GOAL POWER Football Shoes For Men</td>\n",
       "      <td>4.2</td>\n",
       "    </tr>\n",
       "    <tr>\n",
       "      <th>7</th>\n",
       "      <td>NIVIA</td>\n",
       "      <td>₹699</td>\n",
       "      <td>INFRA Football Shoes For Men</td>\n",
       "      <td>1</td>\n",
       "    </tr>\n",
       "    <tr>\n",
       "      <th>8</th>\n",
       "      <td>NIVIA</td>\n",
       "      <td>₹549</td>\n",
       "      <td>IMPACT Football Shoes For Men</td>\n",
       "      <td>1</td>\n",
       "    </tr>\n",
       "    <tr>\n",
       "      <th>9</th>\n",
       "      <td>NIVIA</td>\n",
       "      <td>₹689</td>\n",
       "      <td>Football Shoes For Men</td>\n",
       "      <td>4.2</td>\n",
       "    </tr>\n",
       "    <tr>\n",
       "      <th>10</th>\n",
       "      <td>Adi</td>\n",
       "      <td>₹629</td>\n",
       "      <td>Boys and Men Football Shoes Football Shoes For...</td>\n",
       "      <td>5</td>\n",
       "    </tr>\n",
       "    <tr>\n",
       "      <th>11</th>\n",
       "      <td>Adi</td>\n",
       "      <td>₹629</td>\n",
       "      <td>Football Shoes For Men</td>\n",
       "      <td>4</td>\n",
       "    </tr>\n",
       "    <tr>\n",
       "      <th>12</th>\n",
       "      <td>NIVIA</td>\n",
       "      <td>₹461</td>\n",
       "      <td>Storm Football Shoes For Men</td>\n",
       "      <td>4.1</td>\n",
       "    </tr>\n",
       "    <tr>\n",
       "      <th>13</th>\n",
       "      <td>NIVIA</td>\n",
       "      <td>₹749</td>\n",
       "      <td>AMBITION Football Shoes For Men</td>\n",
       "      <td>5</td>\n",
       "    </tr>\n",
       "    <tr>\n",
       "      <th>14</th>\n",
       "      <td>NIVIA</td>\n",
       "      <td>₹640</td>\n",
       "      <td>Oslar 2.0 Football Shoes For Men</td>\n",
       "      <td>5</td>\n",
       "    </tr>\n",
       "  </tbody>\n",
       "</table>\n",
       "</div>"
      ],
      "text/plain": [
       "   Product name Prices                                        description  \\\n",
       "0         NIVIA   ₹562                             Football Shoes For Men   \n",
       "1         NIVIA   ₹494                      IMPACT Football Shoes For Men   \n",
       "2        Golazo   ₹540                       FS-10 Football Shoes For Men   \n",
       "3         NIVIA   ₹560                   Oslar 2.0 Football Shoes For Men   \n",
       "4         NIVIA   ₹601  Men's Encounter 9.0 F.B Stud Football Shoes Fo...   \n",
       "5         NIVIA   ₹672                             Football Shoes For Men   \n",
       "6         NIVIA   ₹749                  GOAL POWER Football Shoes For Men   \n",
       "7         NIVIA   ₹699                       INFRA Football Shoes For Men   \n",
       "8         NIVIA   ₹549                      IMPACT Football Shoes For Men   \n",
       "9         NIVIA   ₹689                             Football Shoes For Men   \n",
       "10          Adi   ₹629  Boys and Men Football Shoes Football Shoes For...   \n",
       "11          Adi   ₹629                             Football Shoes For Men   \n",
       "12        NIVIA   ₹461                       Storm Football Shoes For Men   \n",
       "13        NIVIA   ₹749                    AMBITION Football Shoes For Men   \n",
       "14        NIVIA   ₹640                   Oslar 2.0 Football Shoes For Men   \n",
       "\n",
       "   Reviews  \n",
       "0      3.9  \n",
       "1        1  \n",
       "2        4  \n",
       "3      4.1  \n",
       "4        5  \n",
       "5        5  \n",
       "6      4.2  \n",
       "7        1  \n",
       "8        1  \n",
       "9      4.2  \n",
       "10       5  \n",
       "11       4  \n",
       "12     4.1  \n",
       "13       5  \n",
       "14       5  "
      ]
     },
     "execution_count": 15,
     "metadata": {},
     "output_type": "execute_result"
    }
   ],
   "source": [
    "df"
   ]
  },
  {
   "cell_type": "code",
   "execution_count": null,
   "id": "c83e1c20",
   "metadata": {},
   "outputs": [],
   "source": []
  }
 ],
 "metadata": {
  "kernelspec": {
   "display_name": "Python 3 (ipykernel)",
   "language": "python",
   "name": "python3"
  },
  "language_info": {
   "codemirror_mode": {
    "name": "ipython",
    "version": 3
   },
   "file_extension": ".py",
   "mimetype": "text/x-python",
   "name": "python",
   "nbconvert_exporter": "python",
   "pygments_lexer": "ipython3",
   "version": "3.10.2"
  }
 },
 "nbformat": 4,
 "nbformat_minor": 5
}
